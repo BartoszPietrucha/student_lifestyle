{
 "cells": [
  {
   "cell_type": "code",
   "execution_count": 5,
   "id": "8c0f8359-6b49-4a1a-be5e-a18bdb09ed88",
   "metadata": {},
   "outputs": [],
   "source": [
    "import matplotlib.pyplot as plt\n",
    "import numpy as np\n",
    "import pandas as pd\n",
    "import seaborn as sns"
   ]
  },
  {
   "cell_type": "code",
   "execution_count": 6,
   "id": "517d5a85-4a99-4ef2-a72c-4d7c450fc56d",
   "metadata": {},
   "outputs": [],
   "source": [
    "df = pd.read_csv(\"student_lifestyle_dataset.csv\")"
   ]
  },
  {
   "cell_type": "code",
   "execution_count": 7,
   "id": "b178b629-d0ef-4a75-babc-4d31b9772a90",
   "metadata": {},
   "outputs": [
    {
     "data": {
      "text/html": [
       "<div>\n",
       "<style scoped>\n",
       "    .dataframe tbody tr th:only-of-type {\n",
       "        vertical-align: middle;\n",
       "    }\n",
       "\n",
       "    .dataframe tbody tr th {\n",
       "        vertical-align: top;\n",
       "    }\n",
       "\n",
       "    .dataframe thead th {\n",
       "        text-align: right;\n",
       "    }\n",
       "</style>\n",
       "<table border=\"1\" class=\"dataframe\">\n",
       "  <thead>\n",
       "    <tr style=\"text-align: right;\">\n",
       "      <th></th>\n",
       "      <th>Student_ID</th>\n",
       "      <th>Study_Hours_Per_Day</th>\n",
       "      <th>Extracurricular_Hours_Per_Day</th>\n",
       "      <th>Sleep_Hours_Per_Day</th>\n",
       "      <th>Social_Hours_Per_Day</th>\n",
       "      <th>Physical_Activity_Hours_Per_Day</th>\n",
       "      <th>GPA</th>\n",
       "      <th>Stress_Level</th>\n",
       "    </tr>\n",
       "  </thead>\n",
       "  <tbody>\n",
       "    <tr>\n",
       "      <th>0</th>\n",
       "      <td>1</td>\n",
       "      <td>6.9</td>\n",
       "      <td>3.8</td>\n",
       "      <td>8.7</td>\n",
       "      <td>2.8</td>\n",
       "      <td>1.8</td>\n",
       "      <td>2.99</td>\n",
       "      <td>Moderate</td>\n",
       "    </tr>\n",
       "    <tr>\n",
       "      <th>1</th>\n",
       "      <td>2</td>\n",
       "      <td>5.3</td>\n",
       "      <td>3.5</td>\n",
       "      <td>8.0</td>\n",
       "      <td>4.2</td>\n",
       "      <td>3.0</td>\n",
       "      <td>2.75</td>\n",
       "      <td>Low</td>\n",
       "    </tr>\n",
       "    <tr>\n",
       "      <th>2</th>\n",
       "      <td>3</td>\n",
       "      <td>5.1</td>\n",
       "      <td>3.9</td>\n",
       "      <td>9.2</td>\n",
       "      <td>1.2</td>\n",
       "      <td>4.6</td>\n",
       "      <td>2.67</td>\n",
       "      <td>Low</td>\n",
       "    </tr>\n",
       "    <tr>\n",
       "      <th>3</th>\n",
       "      <td>4</td>\n",
       "      <td>6.5</td>\n",
       "      <td>2.1</td>\n",
       "      <td>7.2</td>\n",
       "      <td>1.7</td>\n",
       "      <td>6.5</td>\n",
       "      <td>2.88</td>\n",
       "      <td>Moderate</td>\n",
       "    </tr>\n",
       "    <tr>\n",
       "      <th>4</th>\n",
       "      <td>5</td>\n",
       "      <td>8.1</td>\n",
       "      <td>0.6</td>\n",
       "      <td>6.5</td>\n",
       "      <td>2.2</td>\n",
       "      <td>6.6</td>\n",
       "      <td>3.51</td>\n",
       "      <td>High</td>\n",
       "    </tr>\n",
       "  </tbody>\n",
       "</table>\n",
       "</div>"
      ],
      "text/plain": [
       "   Student_ID  Study_Hours_Per_Day  Extracurricular_Hours_Per_Day  \\\n",
       "0           1                  6.9                            3.8   \n",
       "1           2                  5.3                            3.5   \n",
       "2           3                  5.1                            3.9   \n",
       "3           4                  6.5                            2.1   \n",
       "4           5                  8.1                            0.6   \n",
       "\n",
       "   Sleep_Hours_Per_Day  Social_Hours_Per_Day  Physical_Activity_Hours_Per_Day  \\\n",
       "0                  8.7                   2.8                              1.8   \n",
       "1                  8.0                   4.2                              3.0   \n",
       "2                  9.2                   1.2                              4.6   \n",
       "3                  7.2                   1.7                              6.5   \n",
       "4                  6.5                   2.2                              6.6   \n",
       "\n",
       "    GPA Stress_Level  \n",
       "0  2.99     Moderate  \n",
       "1  2.75          Low  \n",
       "2  2.67          Low  \n",
       "3  2.88     Moderate  \n",
       "4  3.51         High  "
      ]
     },
     "execution_count": 7,
     "metadata": {},
     "output_type": "execute_result"
    }
   ],
   "source": [
    "df.head()"
   ]
  },
  {
   "cell_type": "code",
   "execution_count": 11,
   "id": "bdd50cce-63b1-4e1b-ace4-24b82414a931",
   "metadata": {},
   "outputs": [
    {
     "name": "stdout",
     "output_type": "stream",
     "text": [
      "shape of data (2000, 8)\n"
     ]
    }
   ],
   "source": [
    "print(\"shape of data\", df.shape)"
   ]
  },
  {
   "cell_type": "code",
   "execution_count": 21,
   "id": "02779635-cf97-4a54-8825-23b3814de0b8",
   "metadata": {},
   "outputs": [
    {
     "name": "stdout",
     "output_type": "stream",
     "text": [
      "<class 'pandas.core.frame.DataFrame'>\n",
      "RangeIndex: 2000 entries, 0 to 1999\n",
      "Data columns (total 8 columns):\n",
      " #   Column                           Non-Null Count  Dtype  \n",
      "---  ------                           --------------  -----  \n",
      " 0   Student_ID                       2000 non-null   int64  \n",
      " 1   Study_Hours_Per_Day              2000 non-null   float64\n",
      " 2   Extracurricular_Hours_Per_Day    2000 non-null   float64\n",
      " 3   Sleep_Hours_Per_Day              2000 non-null   float64\n",
      " 4   Social_Hours_Per_Day             2000 non-null   float64\n",
      " 5   Physical_Activity_Hours_Per_Day  2000 non-null   float64\n",
      " 6   GPA                              2000 non-null   float64\n",
      " 7   Stress_Level                     2000 non-null   object \n",
      "dtypes: float64(6), int64(1), object(1)\n",
      "memory usage: 125.1+ KB\n",
      "None\n",
      "Student_ID                         0\n",
      "Study_Hours_Per_Day                0\n",
      "Extracurricular_Hours_Per_Day      0\n",
      "Sleep_Hours_Per_Day                0\n",
      "Social_Hours_Per_Day               0\n",
      "Physical_Activity_Hours_Per_Day    0\n",
      "GPA                                0\n",
      "Stress_Level                       0\n",
      "dtype: int64\n"
     ]
    }
   ],
   "source": [
    "print(df.info())\n",
    "#no empty records\n",
    "print(df.isnull().sum())"
   ]
  },
  {
   "cell_type": "code",
   "execution_count": null,
   "id": "771f0394-1918-4604-b4f0-0e79f1a228b4",
   "metadata": {},
   "outputs": [],
   "source": []
  }
 ],
 "metadata": {
  "kernelspec": {
   "display_name": "Python 3 (ipykernel)",
   "language": "python",
   "name": "python3"
  },
  "language_info": {
   "codemirror_mode": {
    "name": "ipython",
    "version": 3
   },
   "file_extension": ".py",
   "mimetype": "text/x-python",
   "name": "python",
   "nbconvert_exporter": "python",
   "pygments_lexer": "ipython3",
   "version": "3.11.8"
  }
 },
 "nbformat": 4,
 "nbformat_minor": 5
}
